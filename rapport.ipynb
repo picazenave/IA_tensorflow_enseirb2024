{
 "cells": [
  {
   "cell_type": "code",
   "execution_count": 2,
   "metadata": {},
   "outputs": [
    {
     "name": "stderr",
     "output_type": "stream",
     "text": [
      "2024-02-12 21:26:56.698286: I tensorflow/core/util/port.cc:113] oneDNN custom operations are on. You may see slightly different numerical results due to floating-point round-off errors from different computation orders. To turn them off, set the environment variable `TF_ENABLE_ONEDNN_OPTS=0`.\n",
      "2024-02-12 21:26:57.017306: E external/local_xla/xla/stream_executor/cuda/cuda_dnn.cc:9261] Unable to register cuDNN factory: Attempting to register factory for plugin cuDNN when one has already been registered\n",
      "2024-02-12 21:26:57.017339: E external/local_xla/xla/stream_executor/cuda/cuda_fft.cc:607] Unable to register cuFFT factory: Attempting to register factory for plugin cuFFT when one has already been registered\n",
      "2024-02-12 21:26:57.063919: E external/local_xla/xla/stream_executor/cuda/cuda_blas.cc:1515] Unable to register cuBLAS factory: Attempting to register factory for plugin cuBLAS when one has already been registered\n",
      "2024-02-12 21:26:57.143673: I tensorflow/core/platform/cpu_feature_guard.cc:182] This TensorFlow binary is optimized to use available CPU instructions in performance-critical operations.\n",
      "To enable the following instructions: AVX2 AVX512F AVX512_VNNI AVX512_BF16 FMA, in other operations, rebuild TensorFlow with the appropriate compiler flags.\n",
      "2024-02-12 21:26:57.941545: W tensorflow/compiler/tf2tensorrt/utils/py_utils.cc:38] TF-TRT Warning: Could not find TensorRT\n"
     ]
    },
    {
     "name": "stdout",
     "output_type": "stream",
     "text": [
      "x_train shape: (60000, 28, 28, 1)\n",
      "60000 train samples\n",
      "10000 test samples\n"
     ]
    }
   ],
   "source": [
    "import numpy as np\n",
    "import keras\n",
    "from keras import layers\n",
    "from keras import metrics\n",
    "import numpy as np\n",
    "import matplotlib.pyplot as plt\n",
    "\n",
    "# Model / data parameters\n",
    "num_classes = 10\n",
    "input_shape = (28, 28, 1)\n",
    "\n",
    "# Load the data and split it between train and test sets\n",
    "(x_train, y_train), (x_test, y_test) = keras.datasets.mnist.load_data()\n",
    "\n",
    "# Scale images to the [0, 1] range\n",
    "x_train = x_train.astype(\"float32\") / 255\n",
    "x_test = x_test.astype(\"float32\") / 255\n",
    "# Make sure images have shape (28, 28, 1)\n",
    "x_train = np.expand_dims(x_train, -1)\n",
    "x_test = np.expand_dims(x_test, -1)\n",
    "print(\"x_train shape:\", x_train.shape)\n",
    "print(x_train.shape[0], \"train samples\")\n",
    "print(x_test.shape[0], \"test samples\")\n",
    "\n",
    "\n",
    "# convert class vectors to binary class matrices\n",
    "y_train = keras.utils.to_categorical(y_train, num_classes)\n",
    "y_test = keras.utils.to_categorical(y_test, num_classes)\n",
    "\n",
    "#aaa\n",
    "batch_size = 128\n",
    "epochs = 15"
   ]
  },
  {
   "cell_type": "markdown",
   "metadata": {},
   "source": [
    "# Accuracy vs Epochs\n",
    "\n",
    "With default mnist model"
   ]
  },
  {
   "cell_type": "code",
   "execution_count": 7,
   "metadata": {},
   "outputs": [
    {
     "name": "stderr",
     "output_type": "stream",
     "text": [
      "2024-02-12 20:04:14.797147: I external/local_xla/xla/stream_executor/cuda/cuda_dnn.cc:454] Loaded cuDNN version 8904\n",
      "2024-02-12 20:04:15.071662: W external/local_xla/xla/stream_executor/gpu/asm_compiler.cc:225] Falling back to the CUDA driver for PTX compilation; ptxas does not support CC 8.9\n",
      "2024-02-12 20:04:15.071684: W external/local_xla/xla/stream_executor/gpu/asm_compiler.cc:228] Used ptxas at ptxas\n",
      "2024-02-12 20:04:15.072112: W external/local_xla/xla/stream_executor/gpu/redzone_allocator.cc:322] UNIMPLEMENTED: ptxas ptxas too old. Falling back to the driver to compile.\n",
      "Relying on driver to perform ptx compilation. \n",
      "Modify $PATH to customize ptxas location.\n",
      "This message will be only logged once.\n",
      "2024-02-12 20:04:15.934991: W tensorflow/compiler/mlir/tools/kernel_gen/transforms/gpu_kernel_to_blob_pass.cc:191] Failed to compile generated PTX with ptxas. Falling back to compilation by driver.\n",
      "2024-02-12 20:04:15.935027: W tensorflow/compiler/mlir/tools/kernel_gen/transforms/gpu_kernel_to_blob_pass.cc:191] Failed to compile generated PTX with ptxas. Falling back to compilation by driver.\n",
      "2024-02-12 20:04:15.935050: W tensorflow/compiler/mlir/tools/kernel_gen/transforms/gpu_kernel_to_blob_pass.cc:191] Failed to compile generated PTX with ptxas. Falling back to compilation by driver.\n",
      "2024-02-12 20:04:15.935070: W tensorflow/compiler/mlir/tools/kernel_gen/transforms/gpu_kernel_to_blob_pass.cc:191] Failed to compile generated PTX with ptxas. Falling back to compilation by driver.\n",
      "2024-02-12 20:04:15.937887: W tensorflow/compiler/mlir/tools/kernel_gen/transforms/gpu_kernel_to_blob_pass.cc:191] Failed to compile generated PTX with ptxas. Falling back to compilation by driver.\n",
      "2024-02-12 20:04:15.937906: W tensorflow/compiler/mlir/tools/kernel_gen/transforms/gpu_kernel_to_blob_pass.cc:191] Failed to compile generated PTX with ptxas. Falling back to compilation by driver.\n",
      "2024-02-12 20:04:15.937912: W tensorflow/compiler/mlir/tools/kernel_gen/transforms/gpu_kernel_to_blob_pass.cc:191] Failed to compile generated PTX with ptxas. Falling back to compilation by driver.\n",
      "2024-02-12 20:04:15.937924: W tensorflow/compiler/mlir/tools/kernel_gen/transforms/gpu_kernel_to_blob_pass.cc:191] Failed to compile generated PTX with ptxas. Falling back to compilation by driver.\n",
      "2024-02-12 20:04:15.937929: W tensorflow/compiler/mlir/tools/kernel_gen/transforms/gpu_kernel_to_blob_pass.cc:191] Failed to compile generated PTX with ptxas. Falling back to compilation by driver.\n",
      "2024-02-12 20:04:16.285730: I external/local_xla/xla/service/service.cc:168] XLA service 0x7fc880e79c60 initialized for platform CUDA (this does not guarantee that XLA will be used). Devices:\n",
      "2024-02-12 20:04:16.285754: I external/local_xla/xla/service/service.cc:176]   StreamExecutor device (0): NVIDIA GeForce RTX 4070 Ti, Compute Capability 8.9\n",
      "2024-02-12 20:04:16.315621: I tensorflow/compiler/mlir/tensorflow/utils/dump_mlir_util.cc:269] disabling MLIR crash reproducer, set env var `MLIR_CRASH_REPRODUCER_DIRECTORY` to enable.\n",
      "2024-02-12 20:04:16.400866: W external/local_xla/xla/service/gpu/nvptx_compiler.cc:408] Couldn't read CUDA driver version.\n",
      "WARNING: All log messages before absl::InitializeLog() is called are written to STDERR\n",
      "I0000 00:00:1707764656.414643    1871 device_compiler.h:186] Compiled cluster using XLA!  This line is logged at most once for the lifetime of the process.\n"
     ]
    },
    {
     "name": "stdout",
     "output_type": "stream",
     "text": [
      "Test loss model_base: 0.08860371261835098 accuracy 0.9746000170707703  epochs : 0\n",
      "Test loss model_base: 0.057127825915813446 accuracy 0.9819999933242798  epochs : 1\n",
      "Test loss model_base: 0.0461789034307003 accuracy 0.9850999712944031  epochs : 2\n",
      "Test loss model_base: 0.04152918979525566 accuracy 0.9865999817848206  epochs : 3\n",
      "Test loss model_base: 0.03533848747611046 accuracy 0.988099992275238  epochs : 4\n",
      "Test loss model_base: 0.03323442116379738 accuracy 0.9883999824523926  epochs : 5\n",
      "Test loss model_base: 0.03051956556737423 accuracy 0.9904000163078308  epochs : 6\n",
      "Test loss model_base: 0.02966056764125824 accuracy 0.989300012588501  epochs : 7\n",
      "Test loss model_base: 0.028556738048791885 accuracy 0.9904999732971191  epochs : 8\n",
      "Test loss model_base: 0.027891598641872406 accuracy 0.9901000261306763  epochs : 9\n",
      "Test loss model_base: 0.027833007276058197 accuracy 0.9896000027656555  epochs : 10\n",
      "Test loss model_base: 0.02705184370279312 accuracy 0.9901999831199646  epochs : 11\n",
      "Test loss model_base: 0.02403033711016178 accuracy 0.9915000200271606  epochs : 12\n",
      "Test loss model_base: 0.024918247014284134 accuracy 0.9911999702453613  epochs : 13\n",
      "Test loss model_base: 0.023293636739253998 accuracy 0.991100013256073  epochs : 14\n",
      "Test loss model_base: 0.024140717461705208 accuracy 0.9918000102043152  epochs : 15\n",
      "Test loss model_base: 0.02252264879643917 accuracy 0.9923999905586243  epochs : 16\n",
      "Test loss model_base: 0.022918060421943665 accuracy 0.9922000169754028  epochs : 17\n",
      "Test loss model_base: 0.025539297610521317 accuracy 0.9911999702453613  epochs : 18\n",
      "Test loss model_base: 0.022991148754954338 accuracy 0.9919999837875366  epochs : 19\n",
      "Test loss model_base: 0.023642735555768013 accuracy 0.9915000200271606  epochs : 20\n",
      "Test loss model_base: 0.023823656141757965 accuracy 0.9923999905586243  epochs : 21\n",
      "Test loss model_base: 0.023305606096982956 accuracy 0.9923999905586243  epochs : 22\n",
      "Test loss model_base: 0.022730370983481407 accuracy 0.9922999739646912  epochs : 23\n",
      "Test loss model_base: 0.024385692551732063 accuracy 0.9926000237464905  epochs : 24\n",
      "Test loss model_base: 0.024209633469581604 accuracy 0.9919999837875366  epochs : 25\n",
      "Test loss model_base: 0.024715326726436615 accuracy 0.9916999936103821  epochs : 26\n",
      "Test loss model_base: 0.026107123121619225 accuracy 0.991599977016449  epochs : 27\n",
      "Test loss model_base: 0.027595587074756622 accuracy 0.9914000034332275  epochs : 28\n",
      "Test loss model_base: 0.024109642952680588 accuracy 0.9927999973297119  epochs : 29\n",
      "Test loss model_base: 0.022688718512654305 accuracy 0.9929999709129333  epochs : 30\n",
      "Test loss model_base: 0.02577165886759758 accuracy 0.9922000169754028  epochs : 31\n",
      "Test loss model_base: 0.023754138499498367 accuracy 0.992900013923645  epochs : 32\n",
      "Test loss model_base: 0.027733948081731796 accuracy 0.9918000102043152  epochs : 33\n",
      "Test loss model_base: 0.024963628500699997 accuracy 0.992900013923645  epochs : 34\n",
      "Test loss model_base: 0.02297341078519821 accuracy 0.9933000206947327  epochs : 35\n",
      "Test loss model_base: 0.023966381326317787 accuracy 0.9932000041007996  epochs : 36\n",
      "Test loss model_base: 0.023998023942112923 accuracy 0.9929999709129333  epochs : 37\n",
      "Test loss model_base: 0.023629341274499893 accuracy 0.992900013923645  epochs : 38\n",
      "Test loss model_base: 0.023616204038262367 accuracy 0.9932000041007996  epochs : 39\n",
      "Test loss model_base: 0.023531707003712654 accuracy 0.9930999875068665  epochs : 40\n",
      "Test loss model_base: 0.02580062486231327 accuracy 0.9919000267982483  epochs : 41\n",
      "Test loss model_base: 0.027972491458058357 accuracy 0.9916999936103821  epochs : 42\n",
      "Test loss model_base: 0.02679700404405594 accuracy 0.9927999973297119  epochs : 43\n",
      "Test loss model_base: 0.02443362958729267 accuracy 0.9933000206947327  epochs : 44\n",
      "Test loss model_base: 0.026219211518764496 accuracy 0.993399977684021  epochs : 45\n",
      "Test loss model_base: 0.02710627391934395 accuracy 0.9919999837875366  epochs : 46\n",
      "Test loss model_base: 0.025063687935471535 accuracy 0.9934999942779541  epochs : 47\n",
      "Test loss model_base: 0.0247736107558012 accuracy 0.993399977684021  epochs : 48\n",
      "Test loss model_base: 0.02769339270889759 accuracy 0.9933000206947327  epochs : 49\n"
     ]
    },
    {
     "data": {
      "image/png": "[encoded data removed]",
      "text/plain": [
       "<Figure size 640x480 with 1 Axes>"
      ]
     },
     "metadata": {},
     "output_type": "display_data"
    }
   ],
   "source": [
    "## model base / epoch\n",
    "model_base = keras.Sequential(\n",
    "    [\n",
    "        keras.Input(shape=input_shape),\n",
    "        layers.Conv2D(32, kernel_size=(3, 3), activation=\"relu\"),\n",
    "        layers.MaxPooling2D(pool_size=(2, 2)),\n",
    "        layers.Conv2D(64, kernel_size=(3, 3), activation=\"relu\"),\n",
    "        layers.MaxPooling2D(pool_size=(2, 2)),\n",
    "        layers.Flatten(),\n",
    "        layers.Dropout(0.5),\n",
    "        layers.Dense(num_classes, activation=\"softmax\"),\n",
    "    ]\n",
    ")\n",
    "model_base.compile(loss=\"categorical_crossentropy\", optimizer=\"adam\", metrics=[\"accuracy\"])\n",
    "accuracy_list=[]\n",
    "for i in range(50):\n",
    "  model_base.fit(x_train, y_train, batch_size=batch_size, epochs=1, validation_split=0.1,verbose=0)\n",
    "  score = model_base.evaluate(x_test, y_test, verbose=0)\n",
    "  accuracy_list.append((i,score[1]))\n",
    "  print(\"Test loss model_base:\", score[0],\"accuracy\",score[1], \" epochs :\",i)\n",
    "\n",
    "plt.figure()\n",
    "plt.title(\"accuracy vs epochs\")\n",
    "plt.scatter(*zip(*accuracy_list))\n",
    "plt.show()"
   ]
  },
  {
   "cell_type": "markdown",
   "metadata": {},
   "source": [
    "# Accuracy vs Batch size\n",
    "\n",
    "With default mnist model"
   ]
  },
  {
   "cell_type": "code",
   "execution_count": 4,
   "metadata": {},
   "outputs": [
    {
     "name": "stdout",
     "output_type": "stream",
     "text": [
      "Test loss model_base: 0.02391599491238594 accuracy 0.9914000034332275  batch size : 32\n",
      "Test loss model_base: 0.02569563314318657 accuracy 0.9908000230789185  batch size : 160\n",
      "Test loss model_base: 0.027287336066365242 accuracy 0.9904999732971191  batch size : 288\n",
      "Test loss model_base: 0.028906041756272316 accuracy 0.9897000193595886  batch size : 416\n",
      "Test loss model_base: 0.0300945732742548 accuracy 0.9894999861717224  batch size : 544\n",
      "Test loss model_base: 0.03223497420549393 accuracy 0.9887999892234802  batch size : 672\n",
      "Test loss model_base: 0.03606062009930611 accuracy 0.9878000020980835  batch size : 800\n",
      "Test loss model_base: 0.037181317806243896 accuracy 0.9876999855041504  batch size : 928\n",
      "Test loss model_base: 0.04116528481245041 accuracy 0.9864000082015991  batch size : 1056\n",
      "Test loss model_base: 0.03899133577942848 accuracy 0.9865000247955322  batch size : 1184\n",
      "Test loss model_base: 0.039116021245718 accuracy 0.9868000149726868  batch size : 1312\n",
      "Test loss model_base: 0.043952442705631256 accuracy 0.9860000014305115  batch size : 1440\n",
      "Test loss model_base: 0.042055435478687286 accuracy 0.9865999817848206  batch size : 1568\n",
      "Test loss model_base: 0.04369169846177101 accuracy 0.9861000180244446  batch size : 1696\n",
      "Test loss model_base: 0.04575645923614502 accuracy 0.9854000210762024  batch size : 1824\n",
      "Test loss model_base: 0.048183374106884 accuracy 0.9850000143051147  batch size : 1952\n",
      "Test loss model_base: 0.048337172716856 accuracy 0.9850000143051147  batch size : 2080\n",
      "Test loss model_base: 0.05038990080356598 accuracy 0.9836000204086304  batch size : 2208\n",
      "Test loss model_base: 0.0528392568230629 accuracy 0.9833999872207642  batch size : 2336\n",
      "Test loss model_base: 0.054441630840301514 accuracy 0.984000027179718  batch size : 2464\n",
      "Test loss model_base: 0.05800575390458107 accuracy 0.982699990272522  batch size : 2592\n",
      "Test loss model_base: 0.05454958602786064 accuracy 0.982699990272522  batch size : 2720\n",
      "Test loss model_base: 0.05737089365720749 accuracy 0.9828000068664551  batch size : 2848\n",
      "Test loss model_base: 0.06065848469734192 accuracy 0.9815999865531921  batch size : 2976\n",
      "Test loss model_base: 0.05985892936587334 accuracy 0.9818999767303467  batch size : 3104\n",
      "Test loss model_base: 0.061805933713912964 accuracy 0.9812999963760376  batch size : 3232\n",
      "Test loss model_base: 0.06547778844833374 accuracy 0.9804999828338623  batch size : 3360\n",
      "Test loss model_base: 0.06086938455700874 accuracy 0.9811000227928162  batch size : 3488\n",
      "Test loss model_base: 0.06779440492391586 accuracy 0.978600025177002  batch size : 3616\n",
      "Test loss model_base: 0.06709567457437515 accuracy 0.979200005531311  batch size : 3744\n",
      "Test loss model_base: 0.06649219989776611 accuracy 0.9799000024795532  batch size : 3872\n",
      "Test loss model_base: 0.06725656986236572 accuracy 0.9786999821662903  batch size : 4000\n",
      "Test loss model_base: 0.07657428085803986 accuracy 0.9760000109672546  batch size : 4128\n",
      "Test loss model_base: 0.08002785593271255 accuracy 0.9750000238418579  batch size : 4256\n",
      "Test loss model_base: 0.07347717136144638 accuracy 0.978600025177002  batch size : 4384\n",
      "Test loss model_base: 0.07631313055753708 accuracy 0.9772999882698059  batch size : 4512\n",
      "Test loss model_base: 0.0779050812125206 accuracy 0.9769999980926514  batch size : 4640\n",
      "Test loss model_base: 0.08159243315458298 accuracy 0.975600004196167  batch size : 4768\n",
      "Test loss model_base: 0.09676723927259445 accuracy 0.9718000292778015  batch size : 4896\n",
      "Test loss model_base: 0.08049455285072327 accuracy 0.9763000011444092  batch size : 5024\n",
      "Test loss model_base: 0.08087294548749924 accuracy 0.9765999913215637  batch size : 5152\n",
      "Test loss model_base: 0.08549239486455917 accuracy 0.9750000238418579  batch size : 5280\n",
      "Test loss model_base: 0.09260447323322296 accuracy 0.972000002861023  batch size : 5408\n",
      "Test loss model_base: 0.08752448856830597 accuracy 0.9749000072479248  batch size : 5536\n",
      "Test loss model_base: 0.08910287171602249 accuracy 0.9732999801635742  batch size : 5664\n",
      "Test loss model_base: 0.09259757399559021 accuracy 0.9725000262260437  batch size : 5792\n",
      "Test loss model_base: 0.0935324877500534 accuracy 0.9732999801635742  batch size : 5920\n",
      "Test loss model_base: 0.09108938276767731 accuracy 0.9731000065803528  batch size : 6048\n",
      "Test loss model_base: 0.09951663017272949 accuracy 0.9713000059127808  batch size : 6176\n",
      "Test loss model_base: 0.09830572456121445 accuracy 0.970300018787384  batch size : 6304\n",
      "Test loss model_base: 0.10198935866355896 accuracy 0.9692999720573425  batch size : 6432\n",
      "Test loss model_base: 0.10037263482809067 accuracy 0.9711999893188477  batch size : 6560\n",
      "Test loss model_base: 0.10726900398731232 accuracy 0.9686999917030334  batch size : 6688\n",
      "Test loss model_base: 0.10566834360361099 accuracy 0.968999981880188  batch size : 6816\n",
      "Test loss model_base: 0.11125435680150986 accuracy 0.9695000052452087  batch size : 6944\n",
      "Test loss model_base: 0.10152339935302734 accuracy 0.97079998254776  batch size : 7072\n",
      "Test loss model_base: 0.10740005970001221 accuracy 0.9700000286102295  batch size : 7200\n",
      "Test loss model_base: 0.10875064879655838 accuracy 0.9692999720573425  batch size : 7328\n",
      "Test loss model_base: 0.10451193898916245 accuracy 0.9696000218391418  batch size : 7456\n",
      "Test loss model_base: 0.11186768859624863 accuracy 0.9684000015258789  batch size : 7584\n",
      "Test loss model_base: 0.18996573984622955 accuracy 0.948199987411499  batch size : 7712\n",
      "Test loss model_base: 0.118050716817379 accuracy 0.9664000272750854  batch size : 7840\n",
      "Test loss model_base: 0.1207030788064003 accuracy 0.9663000106811523  batch size : 7968\n",
      "Test loss model_base: 0.11924741417169571 accuracy 0.9666000008583069  batch size : 8096\n",
      "Test loss model_base: 0.11918425559997559 accuracy 0.9659000039100647  batch size : 8224\n",
      "Test loss model_base: 0.11631163209676743 accuracy 0.9674000144004822  batch size : 8352\n",
      "Test loss model_base: 0.12147017568349838 accuracy 0.9660000205039978  batch size : 8480\n",
      "Test loss model_base: 0.12339872866868973 accuracy 0.9653000235557556  batch size : 8608\n",
      "Test loss model_base: 0.1263173520565033 accuracy 0.9632999897003174  batch size : 8736\n",
      "Test loss model_base: 0.12797576189041138 accuracy 0.9623000025749207  batch size : 8864\n",
      "Test loss model_base: 0.1827613115310669 accuracy 0.9487000107765198  batch size : 8992\n",
      "Test loss model_base: 0.13756436109542847 accuracy 0.9603000283241272  batch size : 9120\n",
      "Test loss model_base: 0.1276320070028305 accuracy 0.9646000266075134  batch size : 9248\n",
      "Test loss model_base: 0.14525388181209564 accuracy 0.958899974822998  batch size : 9376\n",
      "Test loss model_base: 0.13755950331687927 accuracy 0.9613000154495239  batch size : 9504\n",
      "Test loss model_base: 0.13849647343158722 accuracy 0.9605000019073486  batch size : 9632\n",
      "Test loss model_base: 0.14051727950572968 accuracy 0.9603000283241272  batch size : 9760\n",
      "Test loss model_base: 0.13751964271068573 accuracy 0.9611999988555908  batch size : 9888\n"
     ]
    },
    {
     "data": {
      "image/png": "[encoded data removed]",
      "text/plain": [
       "<Figure size 640x480 with 1 Axes>"
      ]
     },
     "metadata": {},
     "output_type": "display_data"
    }
   ],
   "source": [
    "accuracy_list=[]\n",
    "for i in range(32,10000,128):\n",
    "  model_base = keras.Sequential(\n",
    "      [\n",
    "          keras.Input(shape=input_shape),\n",
    "          layers.Conv2D(32, kernel_size=(3, 3), activation=\"relu\"),\n",
    "          layers.MaxPooling2D(pool_size=(2, 2)),\n",
    "          layers.Conv2D(64, kernel_size=(3, 3), activation=\"relu\"),\n",
    "          layers.MaxPooling2D(pool_size=(2, 2)),\n",
    "          layers.Flatten(),\n",
    "          layers.Dropout(0.5),\n",
    "          layers.Dense(num_classes, activation=\"softmax\"),\n",
    "      ]\n",
    "  )\n",
    "  model_base.compile(loss=\"categorical_crossentropy\", optimizer=\"adam\", metrics=[\"accuracy\"])\n",
    "  model_base.fit(x_train, y_train, batch_size=i, epochs=epochs, validation_split=0.1,verbose=0)\n",
    "  score = model_base.evaluate(x_test, y_test, verbose=0)\n",
    "  accuracy_list.append((i,score[1]))\n",
    "  print(\"Test loss model_base:\", score[0],\"accuracy\",score[1], \" batch size :\",i)\n",
    "\n",
    "plt.figure()\n",
    "plt.title(\"accuracy vs batch_size\")\n",
    "plt.scatter(*zip(*accuracy_list))\n",
    "plt.show()"
   ]
  },
  {
   "cell_type": "markdown",
   "metadata": {},
   "source": [
    "# Remove some layers"
   ]
  },
  {
   "cell_type": "code",
   "execution_count": 20,
   "metadata": {},
   "outputs": [
    {
     "name": "stdout",
     "output_type": "stream",
     "text": [
      "Test loss model_base : 0.024152422323822975 accuracy 0.9922999739646912\n",
      "Test loss model_base no dropout: 0.04197106510400772 accuracy 0.988099992275238\n",
      "Test loss model_base no 2nd conv2D: 0.04817052558064461 accuracy 0.984000027179718\n",
      "Test loss model_base no 1st conv2D: 0.04698656126856804 accuracy 0.9850000143051147\n"
     ]
    }
   ],
   "source": [
    "name=[]\n",
    "values=[]\n",
    "##\n",
    "model_base = keras.Sequential(\n",
    "    [\n",
    "        keras.Input(shape=input_shape),\n",
    "        layers.Conv2D(32, kernel_size=(3, 3), activation=\"relu\"),\n",
    "        layers.MaxPooling2D(pool_size=(2, 2)),\n",
    "        layers.Conv2D(64, kernel_size=(3, 3), activation=\"relu\"),\n",
    "        layers.MaxPooling2D(pool_size=(2, 2)),\n",
    "        layers.Flatten(),\n",
    "        layers.Dropout(0.5),\n",
    "        layers.Dense(num_classes, activation=\"softmax\"),\n",
    "    ]\n",
    ")\n",
    "model_base.compile(loss=\"categorical_crossentropy\", optimizer=\"adam\", metrics=[\"accuracy\"])\n",
    "model_base.fit(x_train, y_train, batch_size=batch_size, epochs=epochs, validation_split=0.1,verbose=0)\n",
    "score = model_base.evaluate(x_test, y_test, verbose=0)\n",
    "print(\"Test loss model_base :\", score[0],\"accuracy\",score[1])\n",
    "name.append('base')\n",
    "values.append(score[1])\n",
    "##\n",
    "model_base = keras.Sequential(\n",
    "    [\n",
    "        keras.Input(shape=input_shape),\n",
    "        layers.Conv2D(32, kernel_size=(3, 3), activation=\"relu\"),\n",
    "        layers.MaxPooling2D(pool_size=(2, 2)),\n",
    "        layers.Conv2D(64, kernel_size=(3, 3), activation=\"relu\"),\n",
    "        layers.MaxPooling2D(pool_size=(2, 2)),\n",
    "        layers.Flatten(),\n",
    "        layers.Dense(num_classes, activation=\"softmax\"),\n",
    "    ]\n",
    ")\n",
    "model_base.compile(loss=\"categorical_crossentropy\", optimizer=\"adam\", metrics=[\"accuracy\"])\n",
    "model_base.fit(x_train, y_train, batch_size=batch_size, epochs=epochs, validation_split=0.1,verbose=0)\n",
    "score = model_base.evaluate(x_test, y_test, verbose=0)\n",
    "print(\"Test loss model_base no dropout:\", score[0],\"accuracy\",score[1])\n",
    "name.append('no dropout')\n",
    "values.append(score[1])\n",
    "##\n",
    "model_base = keras.Sequential(\n",
    "    [\n",
    "        keras.Input(shape=input_shape),\n",
    "        layers.Conv2D(32, kernel_size=(3, 3), activation=\"relu\"),\n",
    "        layers.MaxPooling2D(pool_size=(2, 2)),\n",
    "        layers.Flatten(),\n",
    "        layers.Dropout(0.5),\n",
    "        layers.Dense(num_classes, activation=\"softmax\"),\n",
    "    ]\n",
    ")\n",
    "model_base.compile(loss=\"categorical_crossentropy\", optimizer=\"adam\", metrics=[\"accuracy\"])\n",
    "model_base.fit(x_train, y_train, batch_size=batch_size, epochs=epochs, validation_split=0.1,verbose=0)\n",
    "score = model_base.evaluate(x_test, y_test, verbose=0)\n",
    "print(\"Test loss model_base no 2nd conv2D:\", score[0],\"accuracy\",score[1])\n",
    "name.append('no 2nd conv2D')\n",
    "values.append(score[1])\n",
    "##\n",
    "model_base = keras.Sequential(\n",
    "    [\n",
    "        keras.Input(shape=input_shape),\n",
    "        layers.Conv2D(64, kernel_size=(3, 3), activation=\"relu\"),\n",
    "        layers.MaxPooling2D(pool_size=(2, 2)),\n",
    "        layers.Flatten(),\n",
    "        layers.Dropout(0.5),\n",
    "        layers.Dense(num_classes, activation=\"softmax\"),\n",
    "    ]\n",
    ")\n",
    "model_base.compile(loss=\"categorical_crossentropy\", optimizer=\"adam\", metrics=[\"accuracy\"])\n",
    "model_base.fit(x_train, y_train, batch_size=batch_size, epochs=epochs, validation_split=0.1,verbose=0)\n",
    "score = model_base.evaluate(x_test, y_test, verbose=0)\n",
    "print(\"Test loss model_base no 1st conv2D:\", score[0],\"accuracy\",score[1])\n",
    "name.append('no 1st conv2D')\n",
    "values.append(score[1])\n",
    "##  \n"
   ]
  },
  {
   "cell_type": "code",
   "execution_count": 21,
   "metadata": {},
   "outputs": [
    {
     "data": {
      "image/png": "[encoded data removed]",
      "text/plain": [
       "<Figure size 1000x500 with 1 Axes>"
      ]
     },
     "metadata": {},
     "output_type": "display_data"
    }
   ],
   "source": [
    "fig = plt.figure(figsize = (10, 5))\n",
    " \n",
    "# creating the bar plot\n",
    "plt.bar(name, values, color ='red', \n",
    "        width = 0.4)\n",
    " \n",
    "plt.xlabel(\"Layer removeds\")\n",
    "plt.ylabel(\"Accuracy\")\n",
    "for i in range(len(name)):\n",
    "        plt.text(i, values[i], \"{:.2f}\".format(values[i]), ha = 'center')\n",
    "plt.ylim(min(values)-0.01,1)\n",
    "plt.title(\"Layers removed vs Accuracy\")\n",
    "plt.show()"
   ]
  },
  {
   "cell_type": "markdown",
   "metadata": {},
   "source": [
    "# Compile metric vs Accuracy\n",
    "On base model"
   ]
  },
  {
   "cell_type": "code",
   "execution_count": 5,
   "metadata": {},
   "outputs": [
    {
     "name": "stderr",
     "output_type": "stream",
     "text": [
      "2024-02-12 21:28:01.685887: I external/local_xla/xla/stream_executor/cuda/cuda_executor.cc:887] could not open file to read NUMA node: /sys/bus/pci/devices/0000:01:00.0/numa_node\n",
      "Your kernel may have been built without NUMA support.\n",
      "2024-02-12 21:28:01.726206: I external/local_xla/xla/stream_executor/cuda/cuda_executor.cc:887] could not open file to read NUMA node: /sys/bus/pci/devices/0000:01:00.0/numa_node\n",
      "Your kernel may have been built without NUMA support.\n",
      "2024-02-12 21:28:01.726239: I external/local_xla/xla/stream_executor/cuda/cuda_executor.cc:887] could not open file to read NUMA node: /sys/bus/pci/devices/0000:01:00.0/numa_node\n",
      "Your kernel may have been built without NUMA support.\n",
      "2024-02-12 21:28:01.727958: I external/local_xla/xla/stream_executor/cuda/cuda_executor.cc:887] could not open file to read NUMA node: /sys/bus/pci/devices/0000:01:00.0/numa_node\n",
      "Your kernel may have been built without NUMA support.\n",
      "2024-02-12 21:28:01.727989: I external/local_xla/xla/stream_executor/cuda/cuda_executor.cc:887] could not open file to read NUMA node: /sys/bus/pci/devices/0000:01:00.0/numa_node\n",
      "Your kernel may have been built without NUMA support.\n",
      "2024-02-12 21:28:01.728002: I external/local_xla/xla/stream_executor/cuda/cuda_executor.cc:887] could not open file to read NUMA node: /sys/bus/pci/devices/0000:01:00.0/numa_node\n",
      "Your kernel may have been built without NUMA support.\n",
      "2024-02-12 21:28:01.884538: I external/local_xla/xla/stream_executor/cuda/cuda_executor.cc:887] could not open file to read NUMA node: /sys/bus/pci/devices/0000:01:00.0/numa_node\n",
      "Your kernel may have been built without NUMA support.\n",
      "2024-02-12 21:28:01.884580: I external/local_xla/xla/stream_executor/cuda/cuda_executor.cc:887] could not open file to read NUMA node: /sys/bus/pci/devices/0000:01:00.0/numa_node\n",
      "Your kernel may have been built without NUMA support.\n",
      "2024-02-12 21:28:01.884586: I tensorflow/core/common_runtime/gpu/gpu_device.cc:2022] Could not identify NUMA node of platform GPU id 0, defaulting to 0.  Your kernel may not have been built with NUMA support.\n",
      "2024-02-12 21:28:01.884610: I external/local_xla/xla/stream_executor/cuda/cuda_executor.cc:887] could not open file to read NUMA node: /sys/bus/pci/devices/0000:01:00.0/numa_node\n",
      "Your kernel may have been built without NUMA support.\n",
      "2024-02-12 21:28:01.884626: I tensorflow/core/common_runtime/gpu/gpu_device.cc:1929] Created device /job:localhost/replica:0/task:0/device:GPU:0 with 9189 MB memory:  -> device: 0, name: NVIDIA GeForce RTX 4070 Ti, pci bus id: 0000:01:00.0, compute capability: 8.9\n",
      "2024-02-12 21:28:30.032922: I external/local_xla/xla/stream_executor/cuda/cuda_dnn.cc:454] Loaded cuDNN version 8906\n",
      "2024-02-12 21:28:30.498428: W external/local_xla/xla/stream_executor/gpu/asm_compiler.cc:225] Falling back to the CUDA driver for PTX compilation; ptxas does not support CC 8.9\n",
      "2024-02-12 21:28:30.498452: W external/local_xla/xla/stream_executor/gpu/asm_compiler.cc:228] Used ptxas at ptxas\n",
      "2024-02-12 21:28:30.499358: W external/local_xla/xla/stream_executor/gpu/redzone_allocator.cc:322] UNIMPLEMENTED: ptxas ptxas too old. Falling back to the driver to compile.\n",
      "Relying on driver to perform ptx compilation. \n",
      "Modify $PATH to customize ptxas location.\n",
      "This message will be only logged once.\n",
      "2024-02-12 21:28:31.434758: W tensorflow/compiler/mlir/tools/kernel_gen/transforms/gpu_kernel_to_blob_pass.cc:191] Failed to compile generated PTX with ptxas. Falling back to compilation by driver.\n",
      "2024-02-12 21:28:31.435674: W tensorflow/compiler/mlir/tools/kernel_gen/transforms/gpu_kernel_to_blob_pass.cc:191] Failed to compile generated PTX with ptxas. Falling back to compilation by driver.\n",
      "2024-02-12 21:28:31.435707: W tensorflow/compiler/mlir/tools/kernel_gen/transforms/gpu_kernel_to_blob_pass.cc:191] Failed to compile generated PTX with ptxas. Falling back to compilation by driver.\n",
      "2024-02-12 21:28:31.438253: W tensorflow/compiler/mlir/tools/kernel_gen/transforms/gpu_kernel_to_blob_pass.cc:191] Failed to compile generated PTX with ptxas. Falling back to compilation by driver.\n",
      "2024-02-12 21:28:31.438278: W tensorflow/compiler/mlir/tools/kernel_gen/transforms/gpu_kernel_to_blob_pass.cc:191] Failed to compile generated PTX with ptxas. Falling back to compilation by driver.\n",
      "2024-02-12 21:28:31.438290: W tensorflow/compiler/mlir/tools/kernel_gen/transforms/gpu_kernel_to_blob_pass.cc:191] Failed to compile generated PTX with ptxas. Falling back to compilation by driver.\n",
      "2024-02-12 21:28:31.438312: W tensorflow/compiler/mlir/tools/kernel_gen/transforms/gpu_kernel_to_blob_pass.cc:191] Failed to compile generated PTX with ptxas. Falling back to compilation by driver.\n",
      "2024-02-12 21:28:31.438355: W tensorflow/compiler/mlir/tools/kernel_gen/transforms/gpu_kernel_to_blob_pass.cc:191] Failed to compile generated PTX with ptxas. Falling back to compilation by driver.\n",
      "2024-02-12 21:28:31.438395: W tensorflow/compiler/mlir/tools/kernel_gen/transforms/gpu_kernel_to_blob_pass.cc:191] Failed to compile generated PTX with ptxas. Falling back to compilation by driver.\n",
      "2024-02-12 21:28:31.933697: I external/local_xla/xla/service/service.cc:168] XLA service 0x7f4005155df0 initialized for platform CUDA (this does not guarantee that XLA will be used). Devices:\n",
      "2024-02-12 21:28:31.933724: I external/local_xla/xla/service/service.cc:176]   StreamExecutor device (0): NVIDIA GeForce RTX 4070 Ti, Compute Capability 8.9\n",
      "2024-02-12 21:28:31.969812: I tensorflow/compiler/mlir/tensorflow/utils/dump_mlir_util.cc:269] disabling MLIR crash reproducer, set env var `MLIR_CRASH_REPRODUCER_DIRECTORY` to enable.\n",
      "2024-02-12 21:28:32.081706: W external/local_xla/xla/service/gpu/nvptx_compiler.cc:408] Couldn't read CUDA driver version.\n",
      "WARNING: All log messages before absl::InitializeLog() is called are written to STDERR\n",
      "I0000 00:00:1707769712.104177  101848 device_compiler.h:186] Compiled cluster using XLA!  This line is logged at most once for the lifetime of the process.\n"
     ]
    },
    {
     "name": "stdout",
     "output_type": "stream",
     "text": [
      "Test loss model_base : 0.025311920791864395 accuracy 0.9921000003814697\n"
     ]
    },
    {
     "name": "stderr",
     "output_type": "stream",
     "text": [
      "2024-02-12 21:28:59.603124: W tensorflow/compiler/mlir/tools/kernel_gen/transforms/gpu_kernel_to_blob_pass.cc:191] Failed to compile generated PTX with ptxas. Falling back to compilation by driver.\n",
      "2024-02-12 21:28:59.603175: W tensorflow/compiler/mlir/tools/kernel_gen/transforms/gpu_kernel_to_blob_pass.cc:191] Failed to compile generated PTX with ptxas. Falling back to compilation by driver.\n",
      "2024-02-12 21:28:59.603678: W tensorflow/compiler/mlir/tools/kernel_gen/transforms/gpu_kernel_to_blob_pass.cc:191] Failed to compile generated PTX with ptxas. Falling back to compilation by driver.\n",
      "2024-02-12 21:28:59.603716: W tensorflow/compiler/mlir/tools/kernel_gen/transforms/gpu_kernel_to_blob_pass.cc:191] Failed to compile generated PTX with ptxas. Falling back to compilation by driver.\n",
      "2024-02-12 21:28:59.604305: W tensorflow/compiler/mlir/tools/kernel_gen/transforms/gpu_kernel_to_blob_pass.cc:191] Failed to compile generated PTX with ptxas. Falling back to compilation by driver.\n",
      "2024-02-12 21:28:59.604985: W tensorflow/compiler/mlir/tools/kernel_gen/transforms/gpu_kernel_to_blob_pass.cc:191] Failed to compile generated PTX with ptxas. Falling back to compilation by driver.\n",
      "2024-02-12 21:28:59.605010: W tensorflow/compiler/mlir/tools/kernel_gen/transforms/gpu_kernel_to_blob_pass.cc:191] Failed to compile generated PTX with ptxas. Falling back to compilation by driver.\n",
      "2024-02-12 21:28:59.605044: W tensorflow/compiler/mlir/tools/kernel_gen/transforms/gpu_kernel_to_blob_pass.cc:191] Failed to compile generated PTX with ptxas. Falling back to compilation by driver.\n",
      "2024-02-12 21:28:59.729955: W tensorflow/compiler/mlir/tools/kernel_gen/transforms/gpu_kernel_to_blob_pass.cc:191] Failed to compile generated PTX with ptxas. Falling back to compilation by driver.\n",
      "2024-02-12 21:28:59.730334: W tensorflow/compiler/mlir/tools/kernel_gen/transforms/gpu_kernel_to_blob_pass.cc:191] Failed to compile generated PTX with ptxas. Falling back to compilation by driver.\n",
      "2024-02-12 21:28:59.730364: W tensorflow/compiler/mlir/tools/kernel_gen/transforms/gpu_kernel_to_blob_pass.cc:191] Failed to compile generated PTX with ptxas. Falling back to compilation by driver.\n",
      "2024-02-12 21:28:59.730490: W tensorflow/compiler/mlir/tools/kernel_gen/transforms/gpu_kernel_to_blob_pass.cc:191] Failed to compile generated PTX with ptxas. Falling back to compilation by driver.\n",
      "2024-02-12 21:28:59.730541: W tensorflow/compiler/mlir/tools/kernel_gen/transforms/gpu_kernel_to_blob_pass.cc:191] Failed to compile generated PTX with ptxas. Falling back to compilation by driver.\n",
      "2024-02-12 21:28:59.731191: W tensorflow/compiler/mlir/tools/kernel_gen/transforms/gpu_kernel_to_blob_pass.cc:191] Failed to compile generated PTX with ptxas. Falling back to compilation by driver.\n",
      "2024-02-12 21:28:59.731251: W tensorflow/compiler/mlir/tools/kernel_gen/transforms/gpu_kernel_to_blob_pass.cc:191] Failed to compile generated PTX with ptxas. Falling back to compilation by driver.\n",
      "2024-02-12 21:28:59.731718: W tensorflow/compiler/mlir/tools/kernel_gen/transforms/gpu_kernel_to_blob_pass.cc:191] Failed to compile generated PTX with ptxas. Falling back to compilation by driver.\n",
      "2024-02-12 21:28:59.863245: W tensorflow/compiler/mlir/tools/kernel_gen/transforms/gpu_kernel_to_blob_pass.cc:191] Failed to compile generated PTX with ptxas. Falling back to compilation by driver.\n",
      "2024-02-12 21:28:59.863288: W tensorflow/compiler/mlir/tools/kernel_gen/transforms/gpu_kernel_to_blob_pass.cc:191] Failed to compile generated PTX with ptxas. Falling back to compilation by driver.\n",
      "2024-02-12 21:28:59.863368: W tensorflow/compiler/mlir/tools/kernel_gen/transforms/gpu_kernel_to_blob_pass.cc:191] Failed to compile generated PTX with ptxas. Falling back to compilation by driver.\n",
      "2024-02-12 21:28:59.863378: W tensorflow/compiler/mlir/tools/kernel_gen/transforms/gpu_kernel_to_blob_pass.cc:191] Failed to compile generated PTX with ptxas. Falling back to compilation by driver.\n",
      "2024-02-12 21:28:59.863902: W tensorflow/compiler/mlir/tools/kernel_gen/transforms/gpu_kernel_to_blob_pass.cc:191] Failed to compile generated PTX with ptxas. Falling back to compilation by driver.\n",
      "2024-02-12 21:28:59.864332: W tensorflow/compiler/mlir/tools/kernel_gen/transforms/gpu_kernel_to_blob_pass.cc:191] Failed to compile generated PTX with ptxas. Falling back to compilation by driver.\n",
      "2024-02-12 21:28:59.864668: W tensorflow/compiler/mlir/tools/kernel_gen/transforms/gpu_kernel_to_blob_pass.cc:191] Failed to compile generated PTX with ptxas. Falling back to compilation by driver.\n",
      "2024-02-12 21:28:59.865175: W tensorflow/compiler/mlir/tools/kernel_gen/transforms/gpu_kernel_to_blob_pass.cc:191] Failed to compile generated PTX with ptxas. Falling back to compilation by driver.\n",
      "2024-02-12 21:28:59.965286: W tensorflow/compiler/mlir/tools/kernel_gen/transforms/gpu_kernel_to_blob_pass.cc:191] Failed to compile generated PTX with ptxas. Falling back to compilation by driver.\n",
      "2024-02-12 21:28:59.988711: W tensorflow/compiler/mlir/tools/kernel_gen/transforms/gpu_kernel_to_blob_pass.cc:191] Failed to compile generated PTX with ptxas. Falling back to compilation by driver.\n"
     ]
    },
    {
     "name": "stdout",
     "output_type": "stream",
     "text": [
      "Test loss model_base meansquare AUC : 0.02410757914185524 accuracy 0.0012349853059276938\n",
      "Test loss model_base binary_accuracy : 0.024471452459692955 accuracy 0.9983999729156494\n"
     ]
    },
    {
     "name": "stderr",
     "output_type": "stream",
     "text": [
      "2024-02-12 21:29:52.695968: W tensorflow/compiler/mlir/tools/kernel_gen/transforms/gpu_kernel_to_blob_pass.cc:191] Failed to compile generated PTX with ptxas. Falling back to compilation by driver.\n",
      "2024-02-12 21:29:52.715483: W tensorflow/compiler/mlir/tools/kernel_gen/transforms/gpu_kernel_to_blob_pass.cc:191] Failed to compile generated PTX with ptxas. Falling back to compilation by driver.\n",
      "2024-02-12 21:29:52.744712: W tensorflow/compiler/mlir/tools/kernel_gen/transforms/gpu_kernel_to_blob_pass.cc:191] Failed to compile generated PTX with ptxas. Falling back to compilation by driver.\n",
      "2024-02-12 21:29:52.769469: W tensorflow/compiler/mlir/tools/kernel_gen/transforms/gpu_kernel_to_blob_pass.cc:191] Failed to compile generated PTX with ptxas. Falling back to compilation by driver.\n"
     ]
    },
    {
     "name": "stdout",
     "output_type": "stream",
     "text": [
      "Test loss model_base BinaryCrossentropy : 0.023919982835650444 accuracy 0.243913471698761\n",
      "Test loss model_base AUC : 0.024504372850060463 accuracy 0.9998113512992859\n"
     ]
    }
   ],
   "source": [
    "name=[]\n",
    "values=[]\n",
    "##\n",
    "model_base = keras.Sequential(\n",
    "    [\n",
    "        keras.Input(shape=input_shape),\n",
    "        layers.Conv2D(32, kernel_size=(3, 3), activation=\"relu\"),\n",
    "        layers.MaxPooling2D(pool_size=(2, 2)),\n",
    "        layers.Conv2D(64, kernel_size=(3, 3), activation=\"relu\"),\n",
    "        layers.MaxPooling2D(pool_size=(2, 2)),\n",
    "        layers.Flatten(),\n",
    "        layers.Dropout(0.5),\n",
    "        layers.Dense(num_classes, activation=\"softmax\"),\n",
    "    ]\n",
    ")\n",
    "model_base.compile(loss=\"categorical_crossentropy\", optimizer=\"adam\", metrics=[\"accuracy\"])\n",
    "model_base.fit(x_train, y_train, batch_size=batch_size, epochs=epochs, validation_split=0.1,verbose=0)\n",
    "score = model_base.evaluate(x_test, y_test, verbose=0)\n",
    "print(\"Test loss model_base :\", score[0],\"accuracy\",score[1])\n",
    "name.append('base')\n",
    "values.append(score[1])\n",
    "##\n",
    "model_base = keras.Sequential(\n",
    "    [\n",
    "        keras.Input(shape=input_shape),\n",
    "        layers.Conv2D(32, kernel_size=(3, 3), activation=\"relu\"),\n",
    "        layers.MaxPooling2D(pool_size=(2, 2)),\n",
    "        layers.Conv2D(64, kernel_size=(3, 3), activation=\"relu\"),\n",
    "        layers.MaxPooling2D(pool_size=(2, 2)),\n",
    "        layers.Flatten(),\n",
    "        layers.Dropout(0.5),\n",
    "        layers.Dense(num_classes, activation=\"softmax\"),\n",
    "    ]\n",
    ")\n",
    "model_base.compile(loss=\"categorical_crossentropy\", optimizer=\"adam\", metrics=[metrics.MeanSquaredError(),metrics.AUC(),])\n",
    "model_base.fit(x_train, y_train, batch_size=batch_size, epochs=epochs, validation_split=0.1,verbose=0)\n",
    "score = model_base.evaluate(x_test, y_test, verbose=0)\n",
    "print(\"Test loss model_base meansquare AUC :\", score[0],\"accuracy\",score[1])\n",
    "name.append('MeanSquaredError/AUC')\n",
    "values.append(score[1])\n",
    "##\n",
    "model_base = keras.Sequential(\n",
    "    [\n",
    "        keras.Input(shape=input_shape),\n",
    "        layers.Conv2D(32, kernel_size=(3, 3), activation=\"relu\"),\n",
    "        layers.MaxPooling2D(pool_size=(2, 2)),\n",
    "        layers.Conv2D(64, kernel_size=(3, 3), activation=\"relu\"),\n",
    "        layers.MaxPooling2D(pool_size=(2, 2)),\n",
    "        layers.Flatten(),\n",
    "        layers.Dropout(0.5),\n",
    "        layers.Dense(num_classes, activation=\"softmax\"),\n",
    "    ]\n",
    ")\n",
    "model_base.compile(loss=\"categorical_crossentropy\", optimizer=\"adam\", metrics=[metrics.BinaryAccuracy()])\n",
    "model_base.fit(x_train, y_train, batch_size=batch_size, epochs=epochs, validation_split=0.1,verbose=0)\n",
    "score = model_base.evaluate(x_test, y_test, verbose=0)\n",
    "print(\"Test loss model_base binary_accuracy :\", score[0],\"accuracy\",score[1])\n",
    "name.append('BinaryAccuracy')\n",
    "values.append(score[1])\n",
    "##\n",
    "model_base = keras.Sequential(\n",
    "    [\n",
    "        keras.Input(shape=input_shape),\n",
    "        layers.Conv2D(32, kernel_size=(3, 3), activation=\"relu\"),\n",
    "        layers.MaxPooling2D(pool_size=(2, 2)),\n",
    "        layers.Conv2D(64, kernel_size=(3, 3), activation=\"relu\"),\n",
    "        layers.MaxPooling2D(pool_size=(2, 2)),\n",
    "        layers.Flatten(),\n",
    "        layers.Dropout(0.5),\n",
    "        layers.Dense(num_classes, activation=\"softmax\"),\n",
    "    ]\n",
    ")\n",
    "model_base.compile(loss=\"categorical_crossentropy\", optimizer=\"adam\", metrics=[metrics.BinaryCrossentropy()])\n",
    "model_base.fit(x_train, y_train, batch_size=batch_size, epochs=epochs, validation_split=0.1,verbose=0)\n",
    "score = model_base.evaluate(x_test, y_test, verbose=0)\n",
    "print(\"Test loss model_base BinaryCrossentropy :\", score[0],\"accuracy\",score[1])\n",
    "name.append('BinaryCrossentropy')\n",
    "values.append(score[1])\n",
    "##\n",
    "model_base = keras.Sequential(\n",
    "    [\n",
    "        keras.Input(shape=input_shape),\n",
    "        layers.Conv2D(32, kernel_size=(3, 3), activation=\"relu\"),\n",
    "        layers.MaxPooling2D(pool_size=(2, 2)),\n",
    "        layers.Conv2D(64, kernel_size=(3, 3), activation=\"relu\"),\n",
    "        layers.MaxPooling2D(pool_size=(2, 2)),\n",
    "        layers.Flatten(),\n",
    "        layers.Dropout(0.5),\n",
    "        layers.Dense(num_classes, activation=\"softmax\"),\n",
    "    ]\n",
    ")\n",
    "model_base.compile(loss=\"categorical_crossentropy\", optimizer=\"adam\", metrics=[metrics.AUC()])\n",
    "model_base.fit(x_train, y_train, batch_size=batch_size, epochs=epochs, validation_split=0.1,verbose=0)\n",
    "score = model_base.evaluate(x_test, y_test, verbose=0)\n",
    "print(\"Test loss model_base AUC :\", score[0],\"accuracy\",score[1])\n",
    "name.append('AUC')\n",
    "values.append(score[1])\n"
   ]
  },
  {
   "cell_type": "code",
   "execution_count": null,
   "metadata": {},
   "outputs": [
    {
     "data": {
      "image/png": "[encoded data removed]",
      "text/plain": [
       "<Figure size 1000x300 with 1 Axes>"
      ]
     },
     "metadata": {},
     "output_type": "display_data"
    }
   ],
   "source": [
    "fig = plt.figure(figsize=(10, 3))\n",
    "# creating the bar plot\n",
    "plt.bar(name, values, color ='red', \n",
    "        width = 0.4)\n",
    " \n",
    "plt.xlabel(\"Layer removeds\")\n",
    "plt.ylabel(\"Accuracy\")\n",
    "plt.ylim(min(values)-0.01,1)\n",
    "plt.title(\"Metrics vs Accuracy\")\n",
    "for i in range(len(name)):\n",
    "        plt.text(i, values[i], \"{:.2f}\".format(values[i]), ha = 'center')\n",
    "plt.show()"
   ]
  },
  {
   "cell_type": "markdown",
   "metadata": {},
   "source": [
    "# Number of neurons per dense layer"
   ]
  },
  {
   "cell_type": "code",
   "execution_count": 24,
   "metadata": {},
   "outputs": [],
   "source": [
    "name=[]\n",
    "values=[]"
   ]
  },
  {
   "cell_type": "code",
   "execution_count": 25,
   "metadata": {},
   "outputs": [
    {
     "name": "stdout",
     "output_type": "stream",
     "text": [
      "Test loss model_base : 0.022520510479807854 accuracy 0.9915000200271606\n"
     ]
    }
   ],
   "source": [
    "\n",
    "##\n",
    "model_base = keras.Sequential(\n",
    "    [\n",
    "        keras.Input(shape=input_shape),\n",
    "        layers.Conv2D(32, kernel_size=(3, 3), activation=\"relu\"),\n",
    "        layers.MaxPooling2D(pool_size=(2, 2)),\n",
    "        layers.Conv2D(64, kernel_size=(3, 3), activation=\"relu\"),\n",
    "        layers.MaxPooling2D(pool_size=(2, 2)),\n",
    "        layers.Flatten(),\n",
    "        layers.Dropout(0.5),\n",
    "        layers.Dense(num_classes, activation=\"softmax\"),\n",
    "    ]\n",
    ")\n",
    "model_base.compile(loss=\"categorical_crossentropy\", optimizer=\"adam\", metrics=[\"accuracy\"])\n",
    "model_base.fit(x_train, y_train, batch_size=batch_size, epochs=epochs, validation_split=0.1,verbose=0)\n",
    "score = model_base.evaluate(x_test, y_test, verbose=0)\n",
    "print(\"Test loss model_base :\", score[0],\"accuracy\",score[1])\n",
    "name.append('base')\n",
    "values.append(score[1])\n"
   ]
  },
  {
   "cell_type": "code",
   "execution_count": 26,
   "metadata": {},
   "outputs": [
    {
     "name": "stdout",
     "output_type": "stream",
     "text": [
      "Test loss model_base 3 dense : 0.5102471709251404 accuracy 0.7055000066757202\n"
     ]
    }
   ],
   "source": [
    "##\n",
    "##\n",
    "model_base = keras.Sequential(\n",
    "    [\n",
    "        keras.Input(shape=input_shape),\n",
    "        layers.Conv2D(32, kernel_size=(3, 3), activation=\"relu\"),\n",
    "        layers.MaxPooling2D(pool_size=(2, 2)),\n",
    "        layers.Conv2D(64, kernel_size=(3, 3), activation=\"relu\"),\n",
    "        layers.MaxPooling2D(pool_size=(2, 2)),\n",
    "        layers.Flatten(),\n",
    "        layers.Dropout(0.5),\n",
    "        layers.Dense(256, activation=\"softmax\"),\n",
    "        layers.Dense(128, activation=\"softmax\"),\n",
    "        layers.Dense(num_classes, activation=\"softmax\"),\n",
    "    ]\n",
    ")\n",
    "model_base.compile(loss=\"categorical_crossentropy\", optimizer=\"adam\", metrics=[\"accuracy\"])\n",
    "model_base.fit(x_train, y_train, batch_size=batch_size, epochs=epochs, validation_split=0.1,verbose=0)\n",
    "score = model_base.evaluate(x_test, y_test, verbose=0)\n",
    "print(\"Test loss model_base 3 dense :\", score[0],\"accuracy\",score[1])\n",
    "name.append('3 dense')\n",
    "values.append(score[1])\n"
   ]
  },
  {
   "cell_type": "code",
   "execution_count": 27,
   "metadata": {},
   "outputs": [
    {
     "name": "stdout",
     "output_type": "stream",
     "text": [
      "Test loss model_base 5 dense : 2.301117181777954 accuracy 0.11349999904632568\n"
     ]
    }
   ],
   "source": [
    "##\n",
    "model_base = keras.Sequential(\n",
    "    [\n",
    "        keras.Input(shape=input_shape),\n",
    "        layers.Conv2D(32, kernel_size=(3, 3), activation=\"relu\"),\n",
    "        layers.MaxPooling2D(pool_size=(2, 2)),\n",
    "        layers.Conv2D(64, kernel_size=(3, 3), activation=\"relu\"),\n",
    "        layers.MaxPooling2D(pool_size=(2, 2)),\n",
    "        layers.Flatten(),\n",
    "        layers.Dropout(0.5),\n",
    "        layers.Dense(1024, activation=\"softmax\"),\n",
    "        layers.Dense(512, activation=\"softmax\"),\n",
    "        layers.Dense(256, activation=\"softmax\"),\n",
    "        layers.Dense(128, activation=\"softmax\"),\n",
    "        layers.Dense(num_classes, activation=\"softmax\"),\n",
    "    ]\n",
    ")\n",
    "model_base.compile(loss=\"categorical_crossentropy\", optimizer=\"adam\", metrics=[\"accuracy\"])\n",
    "model_base.fit(x_train, y_train, batch_size=batch_size, epochs=epochs, validation_split=0.1,verbose=0)\n",
    "score = model_base.evaluate(x_test, y_test, verbose=0)\n",
    "print(\"Test loss model_base 5 dense :\", score[0],\"accuracy\",score[1])\n",
    "name.append('5 dense')\n",
    "values.append(score[1])\n"
   ]
  },
  {
   "cell_type": "code",
   "execution_count": 29,
   "metadata": {},
   "outputs": [
    {
     "name": "stdout",
     "output_type": "stream",
     "text": [
      "Test loss model_base SpatialDropout2D : 0.032765671610832214 accuracy 0.9900000095367432\n"
     ]
    }
   ],
   "source": [
    "##\n",
    "model_base = keras.Sequential(\n",
    "    [\n",
    "        keras.Input(shape=input_shape),\n",
    "        layers.Conv2D(32, kernel_size=(3, 3), activation=\"relu\"),\n",
    "        layers.MaxPooling2D(pool_size=(2, 2)),\n",
    "        layers.AveragePooling2D((2, 2)),\n",
    "        layers.Conv2D(64, kernel_size=(3, 3), activation=\"relu\"),\n",
    "        layers.MaxPooling2D(pool_size=(2, 2)),\n",
    "        layers.Flatten(),\n",
    "        layers.Dropout(0.5),\n",
    "        layers.Dense(num_classes, activation=\"softmax\"),\n",
    "    ]\n",
    ")\n",
    "model_base.compile(loss=\"categorical_crossentropy\", optimizer=\"adam\", metrics=[\"accuracy\"])\n",
    "model_base.fit(x_train, y_train, batch_size=batch_size, epochs=epochs, validation_split=0.1,verbose=0)\n",
    "score = model_base.evaluate(x_test, y_test, verbose=0)\n",
    "print(\"Test loss model_base AveragePooling2D :\", score[0],\"accuracy\",score[1])\n",
    "name.append('AveragePooling2D')\n",
    "values.append(score[1])\n",
    "##"
   ]
  },
  {
   "cell_type": "code",
   "execution_count": 33,
   "metadata": {},
   "outputs": [
    {
     "name": "stdout",
     "output_type": "stream",
     "text": [
      "Test loss model_base Reshape dense : 2.3009798526763916 accuracy 0.11349999904632568\n"
     ]
    }
   ],
   "source": [
    "##\n",
    "model_base = keras.Sequential(\n",
    "    [\n",
    "        keras.Input(shape=input_shape),\n",
    "        layers.Dense(28*28, activation=\"softmax\"),\n",
    "        #layers.Reshape((28,28)),\n",
    "        layers.Conv2D(32, kernel_size=(3, 3), activation=\"relu\"),\n",
    "        layers.MaxPooling2D(pool_size=(2, 2)),\n",
    "        layers.AveragePooling2D((2, 2)),\n",
    "        layers.Conv2D(64, kernel_size=(3, 3), activation=\"relu\"),\n",
    "        layers.MaxPooling2D(pool_size=(2, 2)),\n",
    "        layers.Flatten(),\n",
    "        layers.Dropout(0.5),\n",
    "        layers.Dense(num_classes, activation=\"softmax\"),\n",
    "    ]\n",
    ")\n",
    "model_base.compile(loss=\"categorical_crossentropy\", optimizer=\"adam\", metrics=[\"accuracy\"])\n",
    "model_base.fit(x_train, y_train, batch_size=batch_size, epochs=epochs, validation_split=0.1,verbose=0)\n",
    "score = model_base.evaluate(x_test, y_test, verbose=0)\n",
    "print(\"Test loss model_base Reshape dense :\", score[0],\"accuracy\",score[1])\n",
    "name.append('Reshape dense')\n",
    "values.append(score[1])\n",
    "##"
   ]
  },
  {
   "cell_type": "code",
   "execution_count": 41,
   "metadata": {},
   "outputs": [
    {
     "name": "stderr",
     "output_type": "stream",
     "text": [
      "2024-02-12 22:33:48.178215: W tensorflow/compiler/mlir/tools/kernel_gen/transforms/gpu_kernel_to_blob_pass.cc:191] Failed to compile generated PTX with ptxas. Falling back to compilation by driver.\n",
      "2024-02-12 22:33:48.374600: W tensorflow/compiler/mlir/tools/kernel_gen/transforms/gpu_kernel_to_blob_pass.cc:191] Failed to compile generated PTX with ptxas. Falling back to compilation by driver.\n",
      "2024-02-12 22:33:48.410507: W tensorflow/compiler/mlir/tools/kernel_gen/transforms/gpu_kernel_to_blob_pass.cc:191] Failed to compile generated PTX with ptxas. Falling back to compilation by driver.\n"
     ]
    },
    {
     "name": "stdout",
     "output_type": "stream",
     "text": [
      "Test loss model_base dense only : 2.3017070293426514 accuracy 0.11349999904632568\n"
     ]
    }
   ],
   "source": [
    "##\n",
    "model_base = keras.Sequential(\n",
    "    [\n",
    "        keras.Input(shape=input_shape),\n",
    "        layers.Dense(28*28, activation=\"softmax\"),\n",
    "        layers.Conv2D(32, kernel_size=(3, 3), activation=\"relu\"),\n",
    "        layers.MaxPooling2D(pool_size=(2, 2)),\n",
    "        layers.Flatten(),\n",
    "        layers.Dense(256, activation=\"softplus\"),\n",
    "        layers.Dense(16, activation=\"softsign\"),\n",
    "        layers.Dense(num_classes, activation=\"softmax\"),\n",
    "    ]\n",
    ")\n",
    "model_base.compile(loss=\"categorical_crossentropy\", optimizer=\"adam\", metrics=[\"accuracy\"])\n",
    "model_base.fit(x_train, y_train, batch_size=batch_size, epochs=epochs, validation_split=0.1,verbose=0)\n",
    "score = model_base.evaluate(x_test, y_test, verbose=0)\n",
    "print(\"Test loss model_base dense mainly :\", score[0],\"accuracy\",score[1])\n",
    "name.append('dense mainly')\n",
    "values.append(score[1])\n",
    "##"
   ]
  },
  {
   "cell_type": "code",
   "execution_count": 42,
   "metadata": {},
   "outputs": [
    {
     "data": {
      "image/png": "[encoded data removed]",
      "text/plain": [
       "<Figure size 1000x300 with 1 Axes>"
      ]
     },
     "metadata": {},
     "output_type": "display_data"
    }
   ],
   "source": [
    "fig = plt.figure(figsize=(10, 3))\n",
    "# creating the bar plot\n",
    "plt.bar(name, values, color ='red', \n",
    "        width = 0.4)\n",
    " \n",
    "plt.xlabel(\"Layer\")\n",
    "plt.ylabel(\"Accuracy\")\n",
    "plt.ylim(min(values)-0.01,1)\n",
    "plt.title(\"Layers vs Accuracy\")\n",
    "for i in range(len(name)):\n",
    "        plt.text(i, values[i], \"{:.4f}\".format(values[i]), ha = 'center')\n",
    "plt.show()"
   ]
  }
 ],
 "metadata": {
  "kernelspec": {
   "display_name": "Python 3 (ipykernel)",
   "language": "python",
   "name": "python3"
  },
  "language_info": {
   "codemirror_mode": {
    "name": "ipython",
    "version": 3
   },
   "file_extension": ".py",
   "mimetype": "text/x-python",
   "name": "python",
   "nbconvert_exporter": "python",
   "pygments_lexer": "ipython3",
   "version": "3.10.12"
  }
 },
 "nbformat": 4,
 "nbformat_minor": 2
}
